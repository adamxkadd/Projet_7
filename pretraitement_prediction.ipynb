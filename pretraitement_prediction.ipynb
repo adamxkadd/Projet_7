{
  "cells": [
    {
      "cell_type": "markdown",
      "metadata": {
        "id": "view-in-github",
        "colab_type": "text"
      },
      "source": [
        "<a href=\"https://colab.research.google.com/github/adamxkadd/Projet_7/blob/main/pretraitement_prediction.ipynb\" target=\"_parent\"><img src=\"https://colab.research.google.com/assets/colab-badge.svg\" alt=\"Open In Colab\"/></a>"
      ]
    },
    {
      "cell_type": "markdown",
      "id": "b483a0a1",
      "metadata": {
        "id": "b483a0a1"
      },
      "source": [
        "**PROJET 7 : Implémentez un modèle de scoring**  \n",
        "Notebook 1 Dashboard et API"
      ]
    },
    {
      "cell_type": "code",
      "source": [
        "# pip install pydantic==2.0a1"
      ],
      "metadata": {
        "id": "4FdisJKxESJR"
      },
      "id": "4FdisJKxESJR",
      "execution_count": null,
      "outputs": []
    },
    {
      "cell_type": "code",
      "source": [
        "# pip install mlflow==1.24.0"
      ],
      "metadata": {
        "id": "8_DgqqbLDa2E"
      },
      "id": "8_DgqqbLDa2E",
      "execution_count": 2,
      "outputs": []
    },
    {
      "cell_type": "code",
      "source": [
        "# pip install pyngrok"
      ],
      "metadata": {
        "colab": {
          "base_uri": "https://localhost:8080/"
        },
        "id": "_hmVNMD1Z3QE",
        "outputId": "a4bdd13f-6313-4b17-91e9-aefa5582dfa9"
      },
      "id": "_hmVNMD1Z3QE",
      "execution_count": 4,
      "outputs": [
        {
          "output_type": "stream",
          "name": "stdout",
          "text": [
            "Collecting pyngrok\n",
            "  Downloading pyngrok-6.0.0.tar.gz (681 kB)\n",
            "\u001b[2K     \u001b[90m━━━━━━━━━━━━━━━━━━━━━━━━━━━━━━━━━━━━━━━\u001b[0m \u001b[32m681.2/681.2 kB\u001b[0m \u001b[31m5.1 MB/s\u001b[0m eta \u001b[36m0:00:00\u001b[0m\n",
            "\u001b[?25h  Preparing metadata (setup.py) ... \u001b[?25l\u001b[?25hdone\n",
            "Requirement already satisfied: PyYAML in /usr/local/lib/python3.10/dist-packages (from pyngrok) (6.0.1)\n",
            "Building wheels for collected packages: pyngrok\n",
            "  Building wheel for pyngrok (setup.py) ... \u001b[?25l\u001b[?25hdone\n",
            "  Created wheel for pyngrok: filename=pyngrok-6.0.0-py3-none-any.whl size=19867 sha256=218494d6974d899e2f312900d89dbbe027adabea57e7de92d9a61bd6575fdc03\n",
            "  Stored in directory: /root/.cache/pip/wheels/5c/42/78/0c3d438d7f5730451a25f7ac6cbf4391759d22a67576ed7c2c\n",
            "Successfully built pyngrok\n",
            "Installing collected packages: pyngrok\n",
            "Successfully installed pyngrok-6.0.0\n"
          ]
        }
      ]
    },
    {
      "cell_type": "code",
      "execution_count": 13,
      "id": "44da787e",
      "metadata": {
        "id": "44da787e"
      },
      "outputs": [],
      "source": [
        "import pandas as pd\n",
        "import numpy as np\n",
        "import joblib as jl\n",
        "import mlflow\n",
        "\n",
        "\n",
        "from sklearn.preprocessing import LabelEncoder, StandardScaler\n",
        "from sklearn.impute import SimpleImputer\n",
        "from sklearn.dummy import DummyRegressor, DummyClassifier\n",
        "from sklearn import model_selection\n",
        "from sklearn.model_selection import train_test_split, cross_val_score\n",
        "from sklearn.pipeline import Pipeline\n",
        "from sklearn import metrics\n",
        "from sklearn.metrics import accuracy_score, f1_score, confusion_matrix, roc_auc_score\n",
        "from sklearn.metrics import mean_squared_error, r2_score\n",
        "\n",
        "\n",
        "from lightgbm import LGBMClassifier\n",
        "from imblearn.over_sampling import SMOTE\n",
        "from pyngrok import ngrok\n",
        "import mlflow.sklearn"
      ]
    },
    {
      "cell_type": "code",
      "source": [
        "from google.colab import drive\n",
        "drive.mount('/content/drive')"
      ],
      "metadata": {
        "colab": {
          "base_uri": "https://localhost:8080/"
        },
        "id": "D93yWzUOAaz0",
        "outputId": "44d7e0e3-9613-4c6a-877b-0b0c2991df76"
      },
      "id": "D93yWzUOAaz0",
      "execution_count": 3,
      "outputs": [
        {
          "output_type": "stream",
          "name": "stdout",
          "text": [
            "Mounted at /content/drive\n"
          ]
        }
      ]
    },
    {
      "cell_type": "code",
      "source": [
        "# Étape 1 : Chargement des données\n",
        "def load_data():\n",
        "    print('Chargement data...')\n",
        "    df_application_train = pd.read_csv('/content/drive/My Drive/DataScientist/Projet_7/application_train.csv')\n",
        "    df_application_test = pd.read_csv('/content/drive/My Drive/DataScientist/Projet_7/application_test.csv')\n",
        "    df_bureau = pd.read_csv('/content/drive/My Drive/DataScientist/Projet_7/bureau.csv')\n",
        "    df_bureau_balance = pd.read_csv('/content/drive/My Drive/DataScientist/Projet_7/bureau_balance.csv')\n",
        "    return df_application_train, df_application_test, df_bureau, df_bureau_balance\n",
        "\n",
        "\n",
        "# Étape 2 : Préparation des DataFrames\n",
        "def prepare_data(df_application_train, df_application_test):\n",
        "    print('Préparer les df...')\n",
        "    df_data = df_application_train.head(100).copy()\n",
        "    df_prod = df_application_test.head(100).copy() # Data pour production (nouveaux clients)\n",
        "    return df_data, df_prod\n",
        "\n",
        "\n",
        "# Étape 3 : Nettoyage des données\n",
        "def clean_data(df_data):\n",
        "    print('Nettoyage...')\n",
        "    df_data = df_data[df_data.CODE_GENDER != 'XNA']\n",
        "    df_data = df_data[df_data.NAME_INCOME_TYPE != 'Maternity leave']\n",
        "    df_data = df_data[df_data.NAME_FAMILY_STATUS != 'Unknown']\n",
        "    return df_data\n",
        "\n",
        "\n",
        "# Étape 4 : Gestion des outliers\n",
        "def gerer_outliers(df_data):\n",
        "    print('Outliers...')\n",
        "    outliers = df_data.loc[df_data.DAYS_EMPLOYED > 366, 'DAYS_EMPLOYED'].unique()\n",
        "    df_data.DAYS_EMPLOYED.replace(outliers, np.nan, inplace=True)\n",
        "    return df_data\n",
        "\n",
        "\n",
        "# Étape 5 : Feature Engineering\n",
        "def feature_engineering(df_data, df_bureau, df_bureau_balance):\n",
        "    print('Feature Engineering...')\n",
        "    df_data['PROPORTION_LIFE_EMPLOYED'] = df_data['DAYS_EMPLOYED'] / df_data['DAYS_BIRTH'] # Calcul du rapport de jours employés par rapport à l'âge\n",
        "    df_data['INCOME_TO_CREDIT_RATIO'] = df_data['AMT_INCOME_TOTAL'] / df_data['AMT_CREDIT'] # Calcul du rapport revenu/crédit\n",
        "    df_data['INCOME_TO_ANNUITY_RATIO'] = df_data['AMT_INCOME_TOTAL'] / df_data['AMT_ANNUITY'] # Calcul du rapport revenu/annuité\n",
        "    df_data['INCOME_TO_ANNUITY_RATIO_BY_AGE'] = df_data['INCOME_TO_ANNUITY_RATIO'] * df_data['DAYS_BIRTH'] # Calcul du rapport revenu/annuité par âge\n",
        "    df_data['CREDIT_TO_ANNUITY_RATIO'] = df_data['AMT_CREDIT'] / df_data['AMT_ANNUITY'] # Calcul du rapport crédit/annuité\n",
        "    df_data['CREDIT_TO_ANNUITY_RATIO_BY_AGE'] = df_data['CREDIT_TO_ANNUITY_RATIO'] * df_data['DAYS_BIRTH'] # Calcul du rapport crédit/annuité par âge\n",
        "    df_data['INCOME_TO_FAMILYSIZE_RATIO'] = df_data['AMT_INCOME_TOTAL'] / df_data['CNT_FAM_MEMBERS'] # Calcul du rapport revenu/taille de la familledf_data.DAYS_EMPLOYED.replace(outliers, np.nan, inplace=True)\n",
        "    nb_pre_prets = df_bureau.groupby('SK_ID_CURR', as_index=False)['SK_ID_BUREAU'].count().rename(columns = {'SK_ID_BUREAU': 'NB_PRE_LOANS'})\n",
        "    df_data = df_data.merge(nb_pre_prets, on='SK_ID_CURR', how='left')\n",
        "    mt_pre_prets = df_bureau_balance.groupby('SK_ID_BUREAU', as_index=False).mean().rename(columns = {'MONTHS_BALANCE': 'MONTHS_BALANCE_MEAN'})\n",
        "    bureau_tmp = df_bureau.merge(mt_pre_prets, on='SK_ID_BUREAU', how='left').drop('SK_ID_BUREAU', axis=1)\n",
        "    bureau_tmp = bureau_tmp.groupby('SK_ID_CURR', as_index=False).mean().add_prefix('PREV_BUR_MEAN_').rename(columns = {'PREV_BUR_MEAN_SK_ID_CURR' : 'SK_ID_CURR'})\n",
        "    df_data = df_data.merge(bureau_tmp, on='SK_ID_CURR', how='left')\n",
        "    return df_data\n",
        "\n",
        "\n",
        "# Étape 6 : Définition de l'index\n",
        "def set_index(df_data):\n",
        "    print('Set index...')\n",
        "    df_data['SK_ID_CURR'] = df_data['SK_ID_CURR'].astype(int)\n",
        "    df_data.set_index('SK_ID_CURR', inplace=True)\n",
        "    return df_data\n",
        "\n",
        "\n",
        "# Étape 7 : Encodage des variables catégorielles\n",
        "def encode_categorical(df_data):\n",
        "    print('Encodage categoriel...')\n",
        "    days_week = {'MONDAY':0,'TUESDAY':1,'WEDNESDAY':2,'THURSDAY':3,'FRIDAY':4,'SATURDAY':5,'SUNDAY':6,}\n",
        "    df_data['WEEKDAY_APPR_PROCESS_START'] = df_data['WEEKDAY_APPR_PROCESS_START'].map(days_week)\n",
        "    le = LabelEncoder()\n",
        "    for col in df_data.select_dtypes(include=['object']).columns:\n",
        "        df_data[col] = le.fit_transform(df_data[col])\n",
        "    df_data = pd.get_dummies(df_data)\n",
        "    return df_data\n",
        "\n",
        "\n",
        "# Étape 8 : Imputation des valeurs manquantes\n",
        "def impute_missing(df_data):\n",
        "    print('Imputation des NaN...')\n",
        "    columns_to_impute = df_data.columns[df_data.columns != 'TARGET']\n",
        "    imputer = SimpleImputer(strategy='median')\n",
        "    df_data[columns_to_impute] = imputer.fit_transform(df_data[columns_to_impute])\n",
        "    return df_data\n",
        "\n",
        "\n",
        "# Étape 9 : Équilibrage de classes\n",
        "def equilibre_classes(df_data):\n",
        "    print('Équilibrage de classes...')\n",
        "    sm = SMOTE(random_state=42)\n",
        "    features, targets = sm.fit_resample(df_data.drop(columns=['TARGET']), df_data['TARGET'].ravel())\n",
        "    df_data_balanced = pd.concat([pd.DataFrame(features), pd.DataFrame(targets, columns=['TARGET'])], axis=1)\n",
        "    return df_data_balanced\n",
        "\n",
        "\n",
        "# Étape 10 : Séparation des données en ensembles d'entraînement et de test\n",
        "def split_data(df_data):\n",
        "    print('Split train/test...')\n",
        "    df_train = df_data[~df_data['TARGET'].isna()]\n",
        "    y_train = df_train['TARGET']\n",
        "    X_train = df_train.drop(columns=['TARGET'])\n",
        "    X_train, X_test, y_train, y_test = model_selection.train_test_split(X_train, y_train, train_size=0.8)\n",
        "    return X_train, X_test, y_train, y_test\n",
        "\n",
        "\n",
        "# Étape 11 : Standardisation des données\n",
        "def standardize_data(X_train, X_test):\n",
        "    print('Standardisation...')\n",
        "    scaler = StandardScaler()\n",
        "    X_train = scaler.fit_transform(X_train)\n",
        "    X_test = scaler.transform(X_test)\n",
        "    return X_train, X_test"
      ],
      "metadata": {
        "id": "xeC1m8JeWB_o"
      },
      "id": "xeC1m8JeWB_o",
      "execution_count": 121,
      "outputs": []
    },
    {
      "cell_type": "code",
      "source": [
        "print('Debut Pre-process')\n",
        "df_application_train, df_application_test, df_bureau, df_bureau_balance = load_data()\n",
        "df_data, df_prod = prepare_data(df_application_train, df_application_test)\n",
        "df_data = clean_data(df_data)\n",
        "df_data = feature_engineering(df_data, df_bureau, df_bureau_balance)\n",
        "df_data = gerer_outliers(df_data)\n",
        "df_data = encode_categorical(df_data)\n",
        "df_data = impute_missing(df_data)\n",
        "df_data = set_index(df_data)\n",
        "df_data = equilibre_classes(df_data)\n",
        "X_train, X_test, y_train, y_test = split_data(df_data)\n",
        "X_train, X_test = standardize_data(X_train, X_test)\n",
        "print('X_train',X_train.shape, 'y_train',y_train.shape)\n",
        "print('X_test',X_train.shape, 'y_test',y_train.shape)\n",
        "print('Fin Pre-process')"
      ],
      "metadata": {
        "colab": {
          "base_uri": "https://localhost:8080/"
        },
        "id": "xBA25pP0Wc4E",
        "outputId": "e0131bc8-91d7-40ae-a9a2-229aaecf087e"
      },
      "id": "xBA25pP0Wc4E",
      "execution_count": 122,
      "outputs": [
        {
          "output_type": "stream",
          "name": "stdout",
          "text": [
            "Debut Pre-process\n",
            "Chargement data...\n",
            "Préparer les df...\n",
            "Nettoyage...\n",
            "Feature Engineering...\n",
            "Outliers...\n",
            "Encodage categoriel...\n",
            "Imputation des NaN...\n",
            "Set index...\n",
            "Équilibrage de classes...\n",
            "Split train/test...\n",
            "Standardisation...\n",
            "X_train (150, 141) y_train (150,)\n",
            "X_test (150, 141) y_test (150,)\n",
            "Fin Pre-process\n"
          ]
        }
      ]
    },
    {
      "cell_type": "markdown",
      "source": [
        "**MLFLOW**"
      ],
      "metadata": {
        "id": "8jVm45okjqdP"
      },
      "id": "8jVm45okjqdP"
    },
    {
      "cell_type": "markdown",
      "source": [
        "**Models simples**"
      ],
      "metadata": {
        "id": "t8ZgiW9qktov"
      },
      "id": "t8ZgiW9qktov"
    },
    {
      "cell_type": "code",
      "source": [
        "mlflow.set_experiment(\"Dummy_models\")\n",
        "mlflow.sklearn.autolog()"
      ],
      "metadata": {
        "colab": {
          "base_uri": "https://localhost:8080/"
        },
        "id": "7kSUsZ4qjne0",
        "outputId": "6bd628ff-3ac7-465c-9453-4b6a42699c82"
      },
      "id": "7kSUsZ4qjne0",
      "execution_count": 123,
      "outputs": [
        {
          "output_type": "stream",
          "name": "stderr",
          "text": [
            "2023/08/23 14:57:53 WARNING mlflow.utils.autologging_utils: You are using an unsupported version of sklearn. If you encounter errors during autologging, try upgrading / downgrading sklearn to a supported version, or try upgrading MLflow.\n"
          ]
        }
      ]
    },
    {
      "cell_type": "markdown",
      "source": [
        "**DummyRegressor**"
      ],
      "metadata": {
        "id": "4LcXtYSyjeXP"
      },
      "id": "4LcXtYSyjeXP"
    },
    {
      "cell_type": "code",
      "source": [
        "with mlflow.start_run(run_name = 'regressor_model' ):\n",
        "    dr = DummyRegressor()\n",
        "    dr.fit(X_train,y_train)"
      ],
      "metadata": {
        "id": "aNoIHZHeWc1U"
      },
      "id": "aNoIHZHeWc1U",
      "execution_count": 124,
      "outputs": []
    },
    {
      "cell_type": "markdown",
      "source": [
        "**DummyClassifier**"
      ],
      "metadata": {
        "id": "qp0vRt7_j_6e"
      },
      "id": "qp0vRt7_j_6e"
    },
    {
      "cell_type": "code",
      "source": [
        "mlflow.sklearn.autolog(disable=True)\n",
        "with mlflow.start_run(run_name = 'classifier_model'):\n",
        "  dc = DummyClassifier()\n",
        "  dc.fit(X_train, y_train)\n",
        "  mlflow.sklearn.log_model(dc, \"dummy_classifier_model\")"
      ],
      "metadata": {
        "id": "S66igVpoWcrx"
      },
      "id": "S66igVpoWcrx",
      "execution_count": 125,
      "outputs": []
    },
    {
      "cell_type": "markdown",
      "source": [
        "# **Lancer mlflow en mode interface**"
      ],
      "metadata": {
        "id": "WKoG9Gwfv8J7"
      },
      "id": "WKoG9Gwfv8J7"
    },
    {
      "cell_type": "code",
      "source": [
        "ngrok. kill()\n",
        "ngrok.set_auth_token(\"2UDkEnEAel94wMucTKrRzP54czT_3NFaKK2AAxFEfT1GSZbo\")\n",
        "print(ngrok.connect(addr=\"5000\", proto=\"http\", bind_tls=True).public_url)\n",
        "\n",
        "!mlflow ui"
      ],
      "metadata": {
        "colab": {
          "base_uri": "https://localhost:8080/"
        },
        "id": "nC8AeHU0YuGN",
        "outputId": "f85b6bea-2ff1-4ba1-aa5c-5a463758d3e5"
      },
      "id": "nC8AeHU0YuGN",
      "execution_count": 134,
      "outputs": [
        {
          "output_type": "stream",
          "name": "stderr",
          "text": [
            "WARNING:pyngrok.process.ngrok:t=2023-08-23T15:00:03+0000 lvl=warn msg=\"ngrok config file found at legacy location, move to XDG location\" xdg_path=/root/.config/ngrok/ngrok.yml legacy_path=/root/.ngrok2/ngrok.yml\n"
          ]
        },
        {
          "output_type": "stream",
          "name": "stdout",
          "text": [
            "https://7eee-35-199-63-192.ngrok-free.app\n",
            "[2023-08-23 15:00:04 +0000] [40453] [INFO] Starting gunicorn 21.2.0\n",
            "[2023-08-23 15:00:04 +0000] [40453] [INFO] Listening at: http://127.0.0.1:5000 (40453)\n",
            "[2023-08-23 15:00:04 +0000] [40453] [INFO] Using worker: sync\n",
            "[2023-08-23 15:00:04 +0000] [40454] [INFO] Booting worker with pid: 40454\n",
            "[2023-08-23 15:01:23 +0000] [40453] [INFO] Handling signal: int\n",
            "\n",
            "Aborted!\n",
            "[2023-08-23 15:01:23 +0000] [40454] [INFO] Worker exiting (pid: 40454)\n",
            "[2023-08-23 15:01:23 +0000] [40453] [INFO] Shutting down: Master\n"
          ]
        }
      ]
    },
    {
      "cell_type": "markdown",
      "source": [
        "# **Predictions**"
      ],
      "metadata": {
        "id": "0BHnqM31q6I5"
      },
      "id": "0BHnqM31q6I5"
    },
    {
      "cell_type": "code",
      "source": [
        "# df_prod_save = df_prod.copy()\n",
        "df_prod = df_prod_save"
      ],
      "metadata": {
        "id": "rvK_9e6TygHv"
      },
      "id": "rvK_9e6TygHv",
      "execution_count": 129,
      "outputs": []
    },
    {
      "cell_type": "code",
      "source": [
        "print('Debut Pre-process')\n",
        "df_prod = clean_data(df_prod)\n",
        "df_prod = feature_engineering(df_prod, df_bureau, df_bureau_balance)\n",
        "df_prod = gerer_outliers(df_prod)\n",
        "df_prod = encode_categorical(df_prod)\n",
        "df_prod = impute_missing(df_prod)\n",
        "df_prod = set_index(df_prod)\n",
        "print('Fin Pre-process')"
      ],
      "metadata": {
        "colab": {
          "base_uri": "https://localhost:8080/"
        },
        "id": "S9OXw-21onDt",
        "outputId": "079d6c0b-9b99-417e-bb3f-10c5718412a5"
      },
      "id": "S9OXw-21onDt",
      "execution_count": 130,
      "outputs": [
        {
          "output_type": "stream",
          "name": "stdout",
          "text": [
            "Debut Pre-process\n",
            "Nettoyage...\n",
            "Feature Engineering...\n",
            "Outliers...\n",
            "Encodage categoriel...\n",
            "Imputation des NaN...\n",
            "Set index...\n",
            "Fin Pre-process\n"
          ]
        }
      ]
    },
    {
      "cell_type": "code",
      "source": [
        "df_prod['TARGET_DR'] = mlflow.pyfunc.load_model('runs:/fd8149c9af0346a780e23725104a13c8/model').predict(df_prod.head(100))\n",
        "df_prod['TARGET_DC'] = mlflow.pyfunc.load_model('runs:/0002a800d94f4d178e7dd817594f9926/dummy_classifier_model').predict(df_prod.head(100))"
      ],
      "metadata": {
        "id": "j0Gd5ms-6pUI"
      },
      "id": "j0Gd5ms-6pUI",
      "execution_count": null,
      "outputs": []
    },
    {
      "cell_type": "code",
      "source": [
        "print(df_prod.TARGET_DR.value_counts())\n",
        "print(df_prod.TARGET_DC.value_counts())"
      ],
      "metadata": {
        "colab": {
          "base_uri": "https://localhost:8080/"
        },
        "id": "xkbvJa_i6-SS",
        "outputId": "4c778daf-a9e3-432c-a5db-d3ec49bca1fa"
      },
      "id": "xkbvJa_i6-SS",
      "execution_count": 140,
      "outputs": [
        {
          "output_type": "stream",
          "name": "stdout",
          "text": [
            "0.513333    100\n",
            "Name: TARGET_DR, dtype: int64\n",
            "1    100\n",
            "Name: TARGET_DC, dtype: int64\n"
          ]
        }
      ]
    },
    {
      "cell_type": "code",
      "source": [
        "df_prod[['TARGET_DR','TARGET_DC']]"
      ],
      "metadata": {
        "colab": {
          "base_uri": "https://localhost:8080/",
          "height": 455
        },
        "id": "pMg9fNUHyzbs",
        "outputId": "d52bb83e-b643-47c3-fbda-0ea804163cde"
      },
      "id": "pMg9fNUHyzbs",
      "execution_count": 136,
      "outputs": [
        {
          "output_type": "execute_result",
          "data": {
            "text/plain": [
              "            TARGET_DR  TARGET_DC\n",
              "SK_ID_CURR                      \n",
              "100001       0.513333          1\n",
              "100005       0.513333          1\n",
              "100013       0.513333          1\n",
              "100028       0.513333          1\n",
              "100038       0.513333          1\n",
              "...               ...        ...\n",
              "100752       0.513333          1\n",
              "100753       0.513333          1\n",
              "100754       0.513333          1\n",
              "100760       0.513333          1\n",
              "100762       0.513333          1\n",
              "\n",
              "[100 rows x 2 columns]"
            ],
            "text/html": [
              "\n",
              "  <div id=\"df-19879985-b822-4af0-ba3a-63856d7f5c25\" class=\"colab-df-container\">\n",
              "    <div>\n",
              "<style scoped>\n",
              "    .dataframe tbody tr th:only-of-type {\n",
              "        vertical-align: middle;\n",
              "    }\n",
              "\n",
              "    .dataframe tbody tr th {\n",
              "        vertical-align: top;\n",
              "    }\n",
              "\n",
              "    .dataframe thead th {\n",
              "        text-align: right;\n",
              "    }\n",
              "</style>\n",
              "<table border=\"1\" class=\"dataframe\">\n",
              "  <thead>\n",
              "    <tr style=\"text-align: right;\">\n",
              "      <th></th>\n",
              "      <th>TARGET_DR</th>\n",
              "      <th>TARGET_DC</th>\n",
              "    </tr>\n",
              "    <tr>\n",
              "      <th>SK_ID_CURR</th>\n",
              "      <th></th>\n",
              "      <th></th>\n",
              "    </tr>\n",
              "  </thead>\n",
              "  <tbody>\n",
              "    <tr>\n",
              "      <th>100001</th>\n",
              "      <td>0.513333</td>\n",
              "      <td>1</td>\n",
              "    </tr>\n",
              "    <tr>\n",
              "      <th>100005</th>\n",
              "      <td>0.513333</td>\n",
              "      <td>1</td>\n",
              "    </tr>\n",
              "    <tr>\n",
              "      <th>100013</th>\n",
              "      <td>0.513333</td>\n",
              "      <td>1</td>\n",
              "    </tr>\n",
              "    <tr>\n",
              "      <th>100028</th>\n",
              "      <td>0.513333</td>\n",
              "      <td>1</td>\n",
              "    </tr>\n",
              "    <tr>\n",
              "      <th>100038</th>\n",
              "      <td>0.513333</td>\n",
              "      <td>1</td>\n",
              "    </tr>\n",
              "    <tr>\n",
              "      <th>...</th>\n",
              "      <td>...</td>\n",
              "      <td>...</td>\n",
              "    </tr>\n",
              "    <tr>\n",
              "      <th>100752</th>\n",
              "      <td>0.513333</td>\n",
              "      <td>1</td>\n",
              "    </tr>\n",
              "    <tr>\n",
              "      <th>100753</th>\n",
              "      <td>0.513333</td>\n",
              "      <td>1</td>\n",
              "    </tr>\n",
              "    <tr>\n",
              "      <th>100754</th>\n",
              "      <td>0.513333</td>\n",
              "      <td>1</td>\n",
              "    </tr>\n",
              "    <tr>\n",
              "      <th>100760</th>\n",
              "      <td>0.513333</td>\n",
              "      <td>1</td>\n",
              "    </tr>\n",
              "    <tr>\n",
              "      <th>100762</th>\n",
              "      <td>0.513333</td>\n",
              "      <td>1</td>\n",
              "    </tr>\n",
              "  </tbody>\n",
              "</table>\n",
              "<p>100 rows × 2 columns</p>\n",
              "</div>\n",
              "    <div class=\"colab-df-buttons\">\n",
              "\n",
              "  <div class=\"colab-df-container\">\n",
              "    <button class=\"colab-df-convert\" onclick=\"convertToInteractive('df-19879985-b822-4af0-ba3a-63856d7f5c25')\"\n",
              "            title=\"Convert this dataframe to an interactive table.\"\n",
              "            style=\"display:none;\">\n",
              "\n",
              "  <svg xmlns=\"http://www.w3.org/2000/svg\" height=\"24px\" viewBox=\"0 -960 960 960\">\n",
              "    <path d=\"M120-120v-720h720v720H120Zm60-500h600v-160H180v160Zm220 220h160v-160H400v160Zm0 220h160v-160H400v160ZM180-400h160v-160H180v160Zm440 0h160v-160H620v160ZM180-180h160v-160H180v160Zm440 0h160v-160H620v160Z\"/>\n",
              "  </svg>\n",
              "    </button>\n",
              "\n",
              "  <style>\n",
              "    .colab-df-container {\n",
              "      display:flex;\n",
              "      gap: 12px;\n",
              "    }\n",
              "\n",
              "    .colab-df-convert {\n",
              "      background-color: #E8F0FE;\n",
              "      border: none;\n",
              "      border-radius: 50%;\n",
              "      cursor: pointer;\n",
              "      display: none;\n",
              "      fill: #1967D2;\n",
              "      height: 32px;\n",
              "      padding: 0 0 0 0;\n",
              "      width: 32px;\n",
              "    }\n",
              "\n",
              "    .colab-df-convert:hover {\n",
              "      background-color: #E2EBFA;\n",
              "      box-shadow: 0px 1px 2px rgba(60, 64, 67, 0.3), 0px 1px 3px 1px rgba(60, 64, 67, 0.15);\n",
              "      fill: #174EA6;\n",
              "    }\n",
              "\n",
              "    .colab-df-buttons div {\n",
              "      margin-bottom: 4px;\n",
              "    }\n",
              "\n",
              "    [theme=dark] .colab-df-convert {\n",
              "      background-color: #3B4455;\n",
              "      fill: #D2E3FC;\n",
              "    }\n",
              "\n",
              "    [theme=dark] .colab-df-convert:hover {\n",
              "      background-color: #434B5C;\n",
              "      box-shadow: 0px 1px 3px 1px rgba(0, 0, 0, 0.15);\n",
              "      filter: drop-shadow(0px 1px 2px rgba(0, 0, 0, 0.3));\n",
              "      fill: #FFFFFF;\n",
              "    }\n",
              "  </style>\n",
              "\n",
              "    <script>\n",
              "      const buttonEl =\n",
              "        document.querySelector('#df-19879985-b822-4af0-ba3a-63856d7f5c25 button.colab-df-convert');\n",
              "      buttonEl.style.display =\n",
              "        google.colab.kernel.accessAllowed ? 'block' : 'none';\n",
              "\n",
              "      async function convertToInteractive(key) {\n",
              "        const element = document.querySelector('#df-19879985-b822-4af0-ba3a-63856d7f5c25');\n",
              "        const dataTable =\n",
              "          await google.colab.kernel.invokeFunction('convertToInteractive',\n",
              "                                                    [key], {});\n",
              "        if (!dataTable) return;\n",
              "\n",
              "        const docLinkHtml = 'Like what you see? Visit the ' +\n",
              "          '<a target=\"_blank\" href=https://colab.research.google.com/notebooks/data_table.ipynb>data table notebook</a>'\n",
              "          + ' to learn more about interactive tables.';\n",
              "        element.innerHTML = '';\n",
              "        dataTable['output_type'] = 'display_data';\n",
              "        await google.colab.output.renderOutput(dataTable, element);\n",
              "        const docLink = document.createElement('div');\n",
              "        docLink.innerHTML = docLinkHtml;\n",
              "        element.appendChild(docLink);\n",
              "      }\n",
              "    </script>\n",
              "  </div>\n",
              "\n",
              "\n",
              "<div id=\"df-bda03f03-fa68-48e3-99c2-42f71a107040\">\n",
              "  <button class=\"colab-df-quickchart\" onclick=\"quickchart('df-bda03f03-fa68-48e3-99c2-42f71a107040')\"\n",
              "            title=\"Suggest charts.\"\n",
              "            style=\"display:none;\">\n",
              "\n",
              "<svg xmlns=\"http://www.w3.org/2000/svg\" height=\"24px\"viewBox=\"0 0 24 24\"\n",
              "     width=\"24px\">\n",
              "    <g>\n",
              "        <path d=\"M19 3H5c-1.1 0-2 .9-2 2v14c0 1.1.9 2 2 2h14c1.1 0 2-.9 2-2V5c0-1.1-.9-2-2-2zM9 17H7v-7h2v7zm4 0h-2V7h2v10zm4 0h-2v-4h2v4z\"/>\n",
              "    </g>\n",
              "</svg>\n",
              "  </button>\n",
              "\n",
              "<style>\n",
              "  .colab-df-quickchart {\n",
              "    background-color: #E8F0FE;\n",
              "    border: none;\n",
              "    border-radius: 50%;\n",
              "    cursor: pointer;\n",
              "    display: none;\n",
              "    fill: #1967D2;\n",
              "    height: 32px;\n",
              "    padding: 0 0 0 0;\n",
              "    width: 32px;\n",
              "  }\n",
              "\n",
              "  .colab-df-quickchart:hover {\n",
              "    background-color: #E2EBFA;\n",
              "    box-shadow: 0px 1px 2px rgba(60, 64, 67, 0.3), 0px 1px 3px 1px rgba(60, 64, 67, 0.15);\n",
              "    fill: #174EA6;\n",
              "  }\n",
              "\n",
              "  [theme=dark] .colab-df-quickchart {\n",
              "    background-color: #3B4455;\n",
              "    fill: #D2E3FC;\n",
              "  }\n",
              "\n",
              "  [theme=dark] .colab-df-quickchart:hover {\n",
              "    background-color: #434B5C;\n",
              "    box-shadow: 0px 1px 3px 1px rgba(0, 0, 0, 0.15);\n",
              "    filter: drop-shadow(0px 1px 2px rgba(0, 0, 0, 0.3));\n",
              "    fill: #FFFFFF;\n",
              "  }\n",
              "</style>\n",
              "\n",
              "  <script>\n",
              "    async function quickchart(key) {\n",
              "      const charts = await google.colab.kernel.invokeFunction(\n",
              "          'suggestCharts', [key], {});\n",
              "    }\n",
              "    (() => {\n",
              "      let quickchartButtonEl =\n",
              "        document.querySelector('#df-bda03f03-fa68-48e3-99c2-42f71a107040 button');\n",
              "      quickchartButtonEl.style.display =\n",
              "        google.colab.kernel.accessAllowed ? 'block' : 'none';\n",
              "    })();\n",
              "  </script>\n",
              "</div>\n",
              "    </div>\n",
              "  </div>\n"
            ]
          },
          "metadata": {},
          "execution_count": 136
        }
      ]
    },
    {
      "cell_type": "code",
      "source": [
        "df_prod.shape"
      ],
      "metadata": {
        "colab": {
          "base_uri": "https://localhost:8080/"
        },
        "id": "6iNQuTJy1LPe",
        "outputId": "ca3a7e74-3b8e-4f19-fda7-5098a3e2c8d7"
      },
      "id": "6iNQuTJy1LPe",
      "execution_count": 132,
      "outputs": [
        {
          "output_type": "execute_result",
          "data": {
            "text/plain": [
              "(100, 141)"
            ]
          },
          "metadata": {},
          "execution_count": 132
        }
      ]
    },
    {
      "cell_type": "code",
      "source": [
        "df_prod_save.shape"
      ],
      "metadata": {
        "colab": {
          "base_uri": "https://localhost:8080/"
        },
        "id": "7F_bu_sKWco9",
        "outputId": "81d63a7a-fb2e-40ac-cd34-599ea6011f4f"
      },
      "id": "7F_bu_sKWco9",
      "execution_count": 133,
      "outputs": [
        {
          "output_type": "execute_result",
          "data": {
            "text/plain": [
              "(100, 121)"
            ]
          },
          "metadata": {},
          "execution_count": 133
        }
      ]
    },
    {
      "cell_type": "code",
      "execution_count": null,
      "id": "6e220cdb",
      "metadata": {
        "id": "6e220cdb",
        "outputId": "41cf791a-c187-4bb1-fdfc-8fb0642f7093"
      },
      "outputs": [
        {
          "name": "stdout",
          "output_type": "stream",
          "text": [
            "FIN\n"
          ]
        }
      ],
      "source": [
        "print(\"FIN\")"
      ]
    }
  ],
  "metadata": {
    "kernelspec": {
      "display_name": "Python 3 (ipykernel)",
      "language": "python",
      "name": "python3"
    },
    "language_info": {
      "codemirror_mode": {
        "name": "ipython",
        "version": 3
      },
      "file_extension": ".py",
      "mimetype": "text/x-python",
      "name": "python",
      "nbconvert_exporter": "python",
      "pygments_lexer": "ipython3",
      "version": "3.9.13"
    },
    "toc": {
      "base_numbering": 1,
      "nav_menu": {},
      "number_sections": true,
      "sideBar": true,
      "skip_h1_title": false,
      "title_cell": "Table of Contents",
      "title_sidebar": "Contents",
      "toc_cell": false,
      "toc_position": {
        "height": "565.6px",
        "left": "30px",
        "top": "66.525px",
        "width": "278.625px"
      },
      "toc_section_display": true,
      "toc_window_display": true
    },
    "colab": {
      "provenance": [],
      "include_colab_link": true
    }
  },
  "nbformat": 4,
  "nbformat_minor": 5
}